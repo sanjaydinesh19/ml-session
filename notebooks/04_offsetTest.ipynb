{
 "cells": [
  {
   "cell_type": "code",
   "execution_count": 2,
   "id": "5d906aa6",
   "metadata": {},
   "outputs": [
    {
     "name": "stdout",
     "output_type": "stream",
     "text": [
      "Using device: cuda\n",
      "Loaded trained model ✅\n",
      "Accuracy on normal test set: 96.86%\n",
      "Accuracy on shifted test set: 46.81%\n"
     ]
    },
    {
     "data": {
      "image/png": "[encoded data removed]",
      "text/plain": [
       "<Figure size 1200x300 with 6 Axes>"
      ]
     },
     "metadata": {},
     "output_type": "display_data"
    }
   ],
   "source": [
    "# ====== 1. Imports ======\n",
    "import torch\n",
    "import torch.nn as nn\n",
    "from torchvision import datasets, transforms\n",
    "from torch.utils.data import DataLoader\n",
    "import matplotlib.pyplot as plt\n",
    "\n",
    "device = torch.device(\"cuda\" if torch.cuda.is_available() else \"cpu\")\n",
    "print(\"Using device:\", device)\n",
    "\n",
    "# ====== 2. Define MLP (same as in Notebook 2) ======\n",
    "class MLP(nn.Module):\n",
    "    def __init__(self):\n",
    "        super().__init__()\n",
    "        self.net = nn.Sequential(\n",
    "            nn.Flatten(),\n",
    "            nn.Linear(28*28, 128), nn.ReLU(),\n",
    "            nn.Linear(128, 64), nn.ReLU(),\n",
    "            nn.Linear(64, 10)\n",
    "        )\n",
    "\n",
    "    def forward(self, x):\n",
    "        return self.net(x)\n",
    "\n",
    "model = MLP().to(device)\n",
    "\n",
    "# ====== 3. Load trained model ======\n",
    "# If you saved the model in 02_mlp_mnist.ipynb, load it here\n",
    "# Otherwise, retrain briefly (not recommended for demo speed)\n",
    "try:\n",
    "    model.load_state_dict(torch.load(\"../data/mlp_mnist.pth\"))\n",
    "    print(\"Loaded trained model ✅\")\n",
    "except FileNotFoundError:\n",
    "    print(\"⚠️ Model not found, please run 02_mlp_mnist.ipynb and save it.\")\n",
    "\n",
    "# ====== 4. Create normal and shifted test datasets ======\n",
    "transform_normal = transforms.ToTensor()\n",
    "\n",
    "transform_shifted = transforms.Compose([\n",
    "    transforms.RandomAffine(degrees=0, translate=(0.15, 0.15)),  # shift by up to 15%\n",
    "    transforms.ToTensor()\n",
    "])\n",
    "\n",
    "test_normal = datasets.MNIST(\n",
    "    root=\"../data\",\n",
    "    train=False,\n",
    "    download=True,\n",
    "    transform=transform_normal\n",
    ")\n",
    "\n",
    "test_shifted = datasets.MNIST(\n",
    "    root=\"../data\",\n",
    "    train=False,\n",
    "    download=True,\n",
    "    transform=transform_shifted\n",
    ")\n",
    "\n",
    "loader_normal = DataLoader(test_normal, batch_size=1000, shuffle=False)\n",
    "loader_shifted = DataLoader(test_shifted, batch_size=1000, shuffle=False)\n",
    "\n",
    "# ====== 5. Evaluation function ======\n",
    "def evaluate(model, dataloader):\n",
    "    model.eval()\n",
    "    correct, total = 0, 0\n",
    "    with torch.no_grad():\n",
    "        for X, y in dataloader:\n",
    "            X, y = X.to(device), y.to(device)\n",
    "            outputs = model(X)\n",
    "            _, predicted = torch.max(outputs, 1)\n",
    "            total += y.size(0)\n",
    "            correct += (predicted == y).sum().item()\n",
    "    return 100 * correct / total\n",
    "\n",
    "# ====== 6. Run evaluations ======\n",
    "acc_normal = evaluate(model, loader_normal)\n",
    "acc_shifted = evaluate(model, loader_shifted)\n",
    "\n",
    "print(f\"Accuracy on normal test set: {acc_normal:.2f}%\")\n",
    "print(f\"Accuracy on shifted test set: {acc_shifted:.2f}%\")\n",
    "\n",
    "# ====== 7. Visualize some shifted samples ======\n",
    "fig, axes = plt.subplots(1, 6, figsize=(12, 3))\n",
    "for i in range(6):\n",
    "    img, label = test_shifted[i]\n",
    "    axes[i].imshow(img.squeeze(), cmap=\"gray\")\n",
    "    axes[i].set_title(f\"Label: {label}\")\n",
    "    axes[i].axis(\"off\")\n",
    "plt.show()\n"
   ]
  },
  {
   "cell_type": "code",
   "execution_count": null,
   "id": "ebe2d679",
   "metadata": {},
   "outputs": [],
   "source": []
  }
 ],
 "metadata": {
  "kernelspec": {
   "display_name": "Session",
   "language": "python",
   "name": "python3"
  },
  "language_info": {
   "codemirror_mode": {
    "name": "ipython",
    "version": 3
   },
   "file_extension": ".py",
   "mimetype": "text/x-python",
   "name": "python",
   "nbconvert_exporter": "python",
   "pygments_lexer": "ipython3",
   "version": "3.8.10"
  }
 },
 "nbformat": 4,
 "nbformat_minor": 5
}
