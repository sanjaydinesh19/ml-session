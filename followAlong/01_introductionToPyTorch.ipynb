{
 "cells": [
  {
   "cell_type": "code",
   "execution_count": 1,
   "id": "b4231d3c",
   "metadata": {},
   "outputs": [
    {
     "data": {
      "text/plain": [
       "'2.0.1+cu118'"
      ]
     },
     "execution_count": 1,
     "metadata": {},
     "output_type": "execute_result"
    }
   ],
   "source": [
    "import torch\n",
    "torch.__version__"
   ]
  },
  {
   "cell_type": "code",
   "execution_count": 2,
   "id": "8fce4a75",
   "metadata": {},
   "outputs": [
    {
     "name": "stdout",
     "output_type": "stream",
     "text": [
      "tensor(7)\n",
      "7\n"
     ]
    }
   ],
   "source": [
    "scalar = torch.tensor(7)\n",
    "print(scalar) #Tensor\n",
    "print(scalar.item())\n"
   ]
  },
  {
   "cell_type": "code",
   "execution_count": 3,
   "id": "2137ba83",
   "metadata": {},
   "outputs": [
    {
     "name": "stdout",
     "output_type": "stream",
     "text": [
      "tensor([7, 7])\n",
      "torch.Size([2])\n"
     ]
    }
   ],
   "source": [
    "vector = torch.tensor([7,7])\n",
    "print(vector)\n",
    "print(vector.shape)"
   ]
  },
  {
   "cell_type": "code",
   "execution_count": 4,
   "id": "69d83a29",
   "metadata": {},
   "outputs": [
    {
     "name": "stdout",
     "output_type": "stream",
     "text": [
      "tensor([[ 7,  8],\n",
      "        [ 9, 10]])\n"
     ]
    }
   ],
   "source": [
    "#Errors in PyTorch:\n",
    "#1. Shape Errors\n",
    "#2. Device Errors\n",
    "#3. Datatype Errors\n",
    "matrix = torch.tensor([[7,8],[9,10]])\n",
    "print(matrix)"
   ]
  },
  {
   "cell_type": "code",
   "execution_count": 5,
   "id": "e834202c",
   "metadata": {},
   "outputs": [
    {
     "name": "stdout",
     "output_type": "stream",
     "text": [
      "tensor([[0.3922, 0.7118, 0.5804, 0.5461],\n",
      "        [0.6583, 0.3048, 0.6097, 0.3626],\n",
      "        [0.7873, 0.6606, 0.1770, 0.7117]])\n",
      "torch.float32\n"
     ]
    }
   ],
   "source": [
    "#Creatre a random tensor\n",
    "random_tensor = torch.rand(size=(3,4))\n",
    "print(random_tensor)\n",
    "print(random_tensor.dtype)"
   ]
  },
  {
   "cell_type": "code",
   "execution_count": 6,
   "id": "1f2d79e2",
   "metadata": {},
   "outputs": [
    {
     "name": "stdout",
     "output_type": "stream",
     "text": [
      "tensor([[[0.9851, 0.0996, 0.0099,  ..., 0.2144, 0.8967, 0.7435],\n",
      "         [0.3336, 0.2943, 0.7586,  ..., 0.7052, 0.0327, 0.0485],\n",
      "         [0.5127, 0.6547, 0.7760,  ..., 0.9182, 0.4524, 0.6124],\n",
      "         ...,\n",
      "         [0.1437, 0.8665, 0.0108,  ..., 0.8508, 0.8791, 0.7110],\n",
      "         [0.2501, 0.5097, 0.3566,  ..., 0.3815, 0.9473, 0.7342],\n",
      "         [0.5393, 0.5801, 0.9190,  ..., 0.0092, 0.8144, 0.1936]],\n",
      "\n",
      "        [[0.9037, 0.9389, 0.5597,  ..., 0.5151, 0.5489, 0.4607],\n",
      "         [0.7996, 0.6342, 0.7542,  ..., 0.3268, 0.6969, 0.5053],\n",
      "         [0.0095, 0.9210, 0.4595,  ..., 0.1149, 0.1710, 0.1155],\n",
      "         ...,\n",
      "         [0.7236, 0.6823, 0.2699,  ..., 0.5575, 0.5516, 0.4154],\n",
      "         [0.2500, 0.7706, 0.9112,  ..., 0.0033, 0.0068, 0.8262],\n",
      "         [0.8214, 0.7661, 0.0775,  ..., 0.1685, 0.1128, 0.1476]],\n",
      "\n",
      "        [[0.9931, 0.4425, 0.1405,  ..., 0.4323, 0.5506, 0.0068],\n",
      "         [0.4931, 0.3563, 0.3185,  ..., 0.0428, 0.7224, 0.9693],\n",
      "         [0.6041, 0.2114, 0.3546,  ..., 0.9877, 0.3725, 0.5534],\n",
      "         ...,\n",
      "         [0.0710, 0.9411, 0.8560,  ..., 0.8090, 0.4371, 0.4548],\n",
      "         [0.0222, 0.7401, 0.3891,  ..., 0.4058, 0.7884, 0.6720],\n",
      "         [0.0477, 0.8936, 0.8740,  ..., 0.8211, 0.2017, 0.5682]]])\n"
     ]
    }
   ],
   "source": [
    "#Image Tensor -> [C,H,W]\n",
    "image_tensor = torch.rand(size=(3,224,224))\n",
    "print(image_tensor)"
   ]
  },
  {
   "cell_type": "code",
   "execution_count": 7,
   "id": "b754c9c4",
   "metadata": {},
   "outputs": [
    {
     "name": "stdout",
     "output_type": "stream",
     "text": [
      "tensor([0, 2, 4, 6, 8])\n"
     ]
    }
   ],
   "source": [
    "#Create a range of values\n",
    "range_tensor = torch.arange(start=0,end=10,step=2)\n",
    "print(range_tensor)"
   ]
  },
  {
   "cell_type": "code",
   "execution_count": 8,
   "id": "afc5d6f5",
   "metadata": {},
   "outputs": [
    {
     "name": "stdout",
     "output_type": "stream",
     "text": [
      "Shape: torch.Size([5]), Datatype: torch.int64, Device: cpu\n"
     ]
    }
   ],
   "source": [
    "print(\"Shape: {range_tensor.shape}, Datatype: {range_tensor.dtype}, Device: {range_tensor.device}\".format(range_tensor=range_tensor))"
   ]
  },
  {
   "cell_type": "code",
   "execution_count": 9,
   "id": "09e21370",
   "metadata": {},
   "outputs": [
    {
     "name": "stdout",
     "output_type": "stream",
     "text": [
      "tensor([[1, 2, 3]])\n",
      "torch.Size([1, 3])\n",
      "tensor([1, 2, 3])\n",
      "torch.Size([3])\n"
     ]
    }
   ],
   "source": [
    "#Squeeze\n",
    "unsqueezed_tensor = torch.tensor([[1,2,3]])\n",
    "print(unsqueezed_tensor)\n",
    "print(unsqueezed_tensor.shape)\n",
    "\n",
    "squeezed_tensor = torch.squeeze(unsqueezed_tensor)\n",
    "print(squeezed_tensor)\n",
    "print(squeezed_tensor.shape)"
   ]
  },
  {
   "cell_type": "code",
   "execution_count": 10,
   "id": "e7e86bcd",
   "metadata": {},
   "outputs": [
    {
     "data": {
      "text/plain": [
       "<torch._C.Generator at 0x7f16605350b0>"
      ]
     },
     "execution_count": 10,
     "metadata": {},
     "output_type": "execute_result"
    }
   ],
   "source": [
    "RANDOM_SEED = 42\n",
    "torch.manual_seed(RANDOM_SEED)\n"
   ]
  },
  {
   "cell_type": "code",
   "execution_count": 11,
   "id": "3669bbb1",
   "metadata": {},
   "outputs": [
    {
     "data": {
      "text/plain": [
       "True"
      ]
     },
     "execution_count": 11,
     "metadata": {},
     "output_type": "execute_result"
    }
   ],
   "source": [
    "torch.cuda.is_available()"
   ]
  },
  {
   "cell_type": "code",
   "execution_count": 12,
   "id": "e05c6525",
   "metadata": {},
   "outputs": [
    {
     "name": "stdout",
     "output_type": "stream",
     "text": [
      "cuda\n"
     ]
    }
   ],
   "source": [
    "#Device Agnostic Code\n",
    "device = \"cuda\" if torch.cuda.is_available() else \"cpu\"\n",
    "print(device)"
   ]
  },
  {
   "cell_type": "code",
   "execution_count": 13,
   "id": "9bcd7eca",
   "metadata": {},
   "outputs": [
    {
     "name": "stdout",
     "output_type": "stream",
     "text": [
      "GPU:  NVIDIA GeForce RTX 3050 Ti Laptop GPU\n"
     ]
    }
   ],
   "source": [
    "# 1. Env Checks\n",
    "import torch\n",
    "import matplotlib.pyplot as plt\n",
    "\n",
    "if torch.cuda.is_available():\n",
    "    print(\"GPU: \",torch.cuda.get_device_name(0))\n",
    "else:\n",
    "    print(\"CPU\")"
   ]
  },
  {
   "cell_type": "code",
   "execution_count": 14,
   "id": "561a9d48",
   "metadata": {},
   "outputs": [
    {
     "name": "stdout",
     "output_type": "stream",
     "text": [
      "Train Dataset: 60000, Test Dataset: 10000\n"
     ]
    }
   ],
   "source": [
    "#2. Loading the MNIST Dataset\n",
    "from torchvision import datasets, transforms\n",
    "\n",
    "transform = transforms.ToTensor() #[C,H,W] and values between 0 and 1\n",
    "train_dataset = datasets.MNIST(\n",
    "    root=\"../data\",\n",
    "    train=True,\n",
    "    download=True,\n",
    "    transform=transform\n",
    ")\n",
    "\n",
    "test_dataset = datasets.MNIST(\n",
    "    root=\"../data\",\n",
    "    train=False,\n",
    "    download=True,\n",
    "    transform=transform\n",
    ")\n",
    "\n",
    "print(f\"Train Dataset: {len(train_dataset)}, Test Dataset: {len(test_dataset)}\")"
   ]
  },
  {
   "cell_type": "code",
   "execution_count": 17,
   "id": "a5197b1d",
   "metadata": {},
   "outputs": [
    {
     "data": {
      "image/png": "[encoded data removed]",
      "text/plain": [
       "<Figure size 1200x300 with 6 Axes>"
      ]
     },
     "metadata": {},
     "output_type": "display_data"
    }
   ],
   "source": [
    "fig, ax = plt.subplots(1,6,figsize=(12,3))\n",
    "for i in range(6):\n",
    "    img, label = train_dataset[i]\n",
    "    ax[i].imshow(img.squeeze(),cmap=\"gray\")\n",
    "    ax[i].set_title(f\"Label: {label}\")\n",
    "    ax[i].axis(\"off\")\n",
    "plt.show()"
   ]
  },
  {
   "cell_type": "code",
   "execution_count": 21,
   "id": "f5692df0",
   "metadata": {},
   "outputs": [],
   "source": [
    "#Imports\n",
    "import torch.nn as nn\n",
    "import torch.optim as optim\n",
    "from torch.utils.data import DataLoader\n",
    "\n",
    "#Use Dataloader\n",
    "train_loader = DataLoader(train_dataset,batch_size= 1000,shuffle=True)\n",
    "test_loader = DataLoader(test_dataset,batch_size = 64,shuffle=False)\n",
    "\n"
   ]
  },
  {
   "cell_type": "code",
   "execution_count": 22,
   "id": "b28bdf0b",
   "metadata": {},
   "outputs": [],
   "source": [
    "class MLP(nn.Module):\n",
    "    def __init__(self):\n",
    "        super().__init__()\n",
    "        self.neural = nn.Sequential(\n",
    "        nn.Flatten(),\n",
    "        nn.Linear(784,128),nn.ReLU(),\n",
    "        nn.Linear(128,64),nn.ReLU(),\n",
    "        nn.Linear(64,10)\n",
    "        )\n",
    "    def forward(self,x):\n",
    "        return self.neural(x)\n",
    "    \n"
   ]
  },
  {
   "cell_type": "code",
   "execution_count": 23,
   "id": "0e12ee7e",
   "metadata": {},
   "outputs": [
    {
     "name": "stdout",
     "output_type": "stream",
     "text": [
      "MLP(\n",
      "  (neural): Sequential(\n",
      "    (0): Flatten(start_dim=1, end_dim=-1)\n",
      "    (1): Linear(in_features=784, out_features=128, bias=True)\n",
      "    (2): ReLU()\n",
      "    (3): Linear(in_features=128, out_features=64, bias=True)\n",
      "    (4): ReLU()\n",
      "    (5): Linear(in_features=64, out_features=10, bias=True)\n",
      "  )\n",
      ")\n"
     ]
    }
   ],
   "source": [
    "model = MLP().to(device) #send model to GPU if available\n",
    "print(model)"
   ]
  },
  {
   "cell_type": "code",
   "execution_count": 24,
   "id": "157355a7",
   "metadata": {},
   "outputs": [],
   "source": [
    "loss_fn = nn.CrossEntropyLoss()\n",
    "optimizer = optim.Adam(model.parameters(),lr = 0.001)"
   ]
  },
  {
   "cell_type": "code",
   "execution_count": 25,
   "id": "da1ce329",
   "metadata": {},
   "outputs": [
    {
     "name": "stdout",
     "output_type": "stream",
     "text": [
      "Epoch: 0 | Train Loss: 1.0978\n",
      "Epoch: 1 | Train Loss: 0.3288\n",
      "Epoch: 2 | Train Loss: 0.2657\n"
     ]
    }
   ],
   "source": [
    "epochs = 3\n",
    "train_losses = []\n",
    "for epoch in range(epochs):\n",
    "    #Training Loop\n",
    "    #0. Set model to train mode\n",
    "    model.train()\n",
    "    total_loss = 0.0\n",
    "    for X,y in train_loader:\n",
    "        #Both X and y are on the same device\n",
    "        X,y = X.to(device),y.to(device)\n",
    "        #1. Forward Pass\n",
    "        output = model(X)\n",
    "        #2. Calculate Loss\n",
    "        loss = loss_fn(output,y)\n",
    "        #3. Optimizer zero grad\n",
    "        optimizer.zero_grad()\n",
    "        #4. Loss Backward\n",
    "        loss.backward()\n",
    "        #5. Optimizer step\n",
    "        optimizer.step()\n",
    "        total_loss += loss.item()\n",
    "    avg_loss = total_loss / len(train_loader)\n",
    "    train_losses.append(avg_loss)\n",
    "    print(f\"Epoch: {epoch} | Train Loss: {avg_loss:.4f}\")\n",
    "    "
   ]
  },
  {
   "cell_type": "code",
   "execution_count": 26,
   "id": "c472087d",
   "metadata": {},
   "outputs": [
    {
     "name": "stdout",
     "output_type": "stream",
     "text": [
      "Test Accuracy: 93.10%\n"
     ]
    }
   ],
   "source": [
    "model.eval()\n",
    "correct = 0\n",
    "total = 0\n",
    "\n",
    "with torch.no_grad():\n",
    "    for X, y in test_loader:\n",
    "        X, y = X.to(device), y.to(device)\n",
    "        outputs = model(X)\n",
    "        _, predicted = torch.max(outputs, 1)\n",
    "        total += y.size(0)\n",
    "        correct += (predicted == y).sum().item()\n",
    "\n",
    "accuracy = 100 * correct / total\n",
    "print(f\"Test Accuracy: {accuracy:.2f}%\")"
   ]
  },
  {
   "cell_type": "code",
   "execution_count": null,
   "id": "b1c635d7",
   "metadata": {},
   "outputs": [],
   "source": []
  }
 ],
 "metadata": {
  "kernelspec": {
   "display_name": "Session",
   "language": "python",
   "name": "python3"
  },
  "language_info": {
   "codemirror_mode": {
    "name": "ipython",
    "version": 3
   },
   "file_extension": ".py",
   "mimetype": "text/x-python",
   "name": "python",
   "nbconvert_exporter": "python",
   "pygments_lexer": "ipython3",
   "version": "3.8.10"
  }
 },
 "nbformat": 4,
 "nbformat_minor": 5
}
